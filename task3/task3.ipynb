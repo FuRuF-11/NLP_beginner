{
 "cells": [
  {
   "cell_type": "code",
   "execution_count": 48,
   "metadata": {},
   "outputs": [],
   "source": [
    "# 数据分析/处理\n",
    "import numpy as np\n",
    "import pandas as pd\n",
    "import re\n",
    "\n",
    "# 搭建神经网络\n",
    "import torch\n",
    "import torch.nn as nn\n",
    "import torch.nn.functional as F\n",
    "import torch.nn.init as init\n",
    "from torch import optim\n",
    "from torch.utils.data import Dataset,DataLoader\n",
    "\n",
    "# 数据可视化\n",
    "import matplotlib.pyplot as plt\n",
    "import warnings\n",
    "\n",
    "# word2vec\n",
    "from gensim.models import Word2Vec\n",
    "\n",
    "\n",
    "warnings.filterwarnings('ignore')\n",
    "%matplotlib inline"
   ]
  },
  {
   "cell_type": "code",
   "execution_count": 49,
   "metadata": {},
   "outputs": [
    {
     "data": {
      "text/plain": [
       "<torch._C.Generator at 0x238585da410>"
      ]
     },
     "execution_count": 49,
     "metadata": {},
     "output_type": "execute_result"
    }
   ],
   "source": [
    "# 验证cuda是否可用\n",
    "cuda_available=torch.cuda.is_available()\n",
    "device = torch.device(\"cuda\" if cuda_available else \"cpu\")\n",
    "if cuda_available:\n",
    "    print(\"CUDA Device Name:\", torch.cuda.get_device_name(0))\n",
    "    print(\"CUDA Compute Capability:\", torch.cuda.get_device_capability(0))\n",
    "# 宇宙的答案\n",
    "np.random.seed(42)\n",
    "torch.manual_seed(42)"
   ]
  },
  {
   "cell_type": "markdown",
   "metadata": {},
   "source": [
    "### 数据集  \n",
    "这里使用的数据集是斯坦福大学提供的SNLI数据集，这个数据集中有两种可以处理的数据类型。  \n",
    "+ json\n",
    "+ txt\n",
    "\n",
    "在本数据集中，两类文件部分内容有差异，但是我们所需要的两个句子和标签在两类文件中是完全一样的。也就是说，我们仅需要载入json或者txt两种格式中的一种来进行训练。"
   ]
  },
  {
   "cell_type": "code",
   "execution_count": 50,
   "metadata": {},
   "outputs": [
    {
     "name": "stdout",
     "output_type": "stream",
     "text": [
      "55015\n"
     ]
    },
    {
     "data": {
      "text/html": [
       "<div>\n",
       "<style scoped>\n",
       "    .dataframe tbody tr th:only-of-type {\n",
       "        vertical-align: middle;\n",
       "    }\n",
       "\n",
       "    .dataframe tbody tr th {\n",
       "        vertical-align: top;\n",
       "    }\n",
       "\n",
       "    .dataframe thead th {\n",
       "        text-align: right;\n",
       "    }\n",
       "</style>\n",
       "<table border=\"1\" class=\"dataframe\">\n",
       "  <thead>\n",
       "    <tr style=\"text-align: right;\">\n",
       "      <th></th>\n",
       "      <th>gold_label</th>\n",
       "      <th>sentence1</th>\n",
       "      <th>sentence2</th>\n",
       "    </tr>\n",
       "  </thead>\n",
       "  <tbody>\n",
       "    <tr>\n",
       "      <th>0</th>\n",
       "      <td>neutral</td>\n",
       "      <td>A person on a horse jumps over a broken down a...</td>\n",
       "      <td>A person is training his horse for a competition.</td>\n",
       "    </tr>\n",
       "    <tr>\n",
       "      <th>1</th>\n",
       "      <td>contradiction</td>\n",
       "      <td>A person on a horse jumps over a broken down a...</td>\n",
       "      <td>A person is at a diner, ordering an omelette.</td>\n",
       "    </tr>\n",
       "    <tr>\n",
       "      <th>2</th>\n",
       "      <td>entailment</td>\n",
       "      <td>A person on a horse jumps over a broken down a...</td>\n",
       "      <td>A person is outdoors, on a horse.</td>\n",
       "    </tr>\n",
       "    <tr>\n",
       "      <th>3</th>\n",
       "      <td>neutral</td>\n",
       "      <td>Children smiling and waving at camera</td>\n",
       "      <td>They are smiling at their parents</td>\n",
       "    </tr>\n",
       "    <tr>\n",
       "      <th>4</th>\n",
       "      <td>entailment</td>\n",
       "      <td>Children smiling and waving at camera</td>\n",
       "      <td>There are children present</td>\n",
       "    </tr>\n",
       "  </tbody>\n",
       "</table>\n",
       "</div>"
      ],
      "text/plain": [
       "      gold_label                                          sentence1  \\\n",
       "0        neutral  A person on a horse jumps over a broken down a...   \n",
       "1  contradiction  A person on a horse jumps over a broken down a...   \n",
       "2     entailment  A person on a horse jumps over a broken down a...   \n",
       "3        neutral              Children smiling and waving at camera   \n",
       "4     entailment              Children smiling and waving at camera   \n",
       "\n",
       "                                           sentence2  \n",
       "0  A person is training his horse for a competition.  \n",
       "1      A person is at a diner, ordering an omelette.  \n",
       "2                  A person is outdoors, on a horse.  \n",
       "3                  They are smiling at their parents  \n",
       "4                         There are children present  "
      ]
     },
     "execution_count": 50,
     "metadata": {},
     "output_type": "execute_result"
    }
   ],
   "source": [
    "# use txt\n",
    "# train=pd.read_csv(\"snli_1.0\\snli_1.0_train.txt\",delimiter='\\t')\n",
    "# use json\n",
    "train=pd.read_json(\"snli_1.0\\snli_1.0_train.jsonl\",lines=True)\n",
    "train=pd.concat([train[\"gold_label\"],train[\"sentence1\"],train[\"sentence2\"]],axis=1)\n",
    "# 原数据集数据量过大，仅仅使用一部分数据\n",
    "train_size=int(0.1*len(train))\n",
    "print(train_size)\n",
    "train=train[:train_size]\n",
    "train.head()"
   ]
  },
  {
   "cell_type": "code",
   "execution_count": 52,
   "metadata": {},
   "outputs": [
    {
     "name": "stdout",
     "output_type": "stream",
     "text": [
      "['neutral' 'contradiction' 'entailment']\n",
      "['neutral' 'contradiction' 'entailment']\n"
     ]
    }
   ],
   "source": [
    "# 数据集中有4种标签，由于无法利用‘-’类型的数据，我们直接抛弃它\n",
    "print(train[\"gold_label\"].unique())\n",
    "train=train.drop(train[train[\"gold_label\"]=='-'].index).reset_index(drop=True)\n",
    "print(train[\"gold_label\"].unique())"
   ]
  },
  {
   "cell_type": "code",
   "execution_count": 53,
   "metadata": {},
   "outputs": [
    {
     "name": "stdout",
     "output_type": "stream",
     "text": [
      "1000\n"
     ]
    },
    {
     "data": {
      "text/html": [
       "<div>\n",
       "<style scoped>\n",
       "    .dataframe tbody tr th:only-of-type {\n",
       "        vertical-align: middle;\n",
       "    }\n",
       "\n",
       "    .dataframe tbody tr th {\n",
       "        vertical-align: top;\n",
       "    }\n",
       "\n",
       "    .dataframe thead th {\n",
       "        text-align: right;\n",
       "    }\n",
       "</style>\n",
       "<table border=\"1\" class=\"dataframe\">\n",
       "  <thead>\n",
       "    <tr style=\"text-align: right;\">\n",
       "      <th></th>\n",
       "      <th>gold_label</th>\n",
       "      <th>sentence1</th>\n",
       "      <th>sentence2</th>\n",
       "    </tr>\n",
       "  </thead>\n",
       "  <tbody>\n",
       "    <tr>\n",
       "      <th>0</th>\n",
       "      <td>neutral</td>\n",
       "      <td>Two women are embracing while holding to go pa...</td>\n",
       "      <td>The sisters are hugging goodbye while holding ...</td>\n",
       "    </tr>\n",
       "    <tr>\n",
       "      <th>1</th>\n",
       "      <td>entailment</td>\n",
       "      <td>Two women are embracing while holding to go pa...</td>\n",
       "      <td>Two woman are holding packages.</td>\n",
       "    </tr>\n",
       "    <tr>\n",
       "      <th>2</th>\n",
       "      <td>contradiction</td>\n",
       "      <td>Two women are embracing while holding to go pa...</td>\n",
       "      <td>The men are fighting outside a deli.</td>\n",
       "    </tr>\n",
       "    <tr>\n",
       "      <th>3</th>\n",
       "      <td>entailment</td>\n",
       "      <td>Two young children in blue jerseys, one with t...</td>\n",
       "      <td>Two kids in numbered jerseys wash their hands.</td>\n",
       "    </tr>\n",
       "    <tr>\n",
       "      <th>4</th>\n",
       "      <td>neutral</td>\n",
       "      <td>Two young children in blue jerseys, one with t...</td>\n",
       "      <td>Two kids at a ballgame wash their hands.</td>\n",
       "    </tr>\n",
       "  </tbody>\n",
       "</table>\n",
       "</div>"
      ],
      "text/plain": [
       "      gold_label                                          sentence1  \\\n",
       "0        neutral  Two women are embracing while holding to go pa...   \n",
       "1     entailment  Two women are embracing while holding to go pa...   \n",
       "2  contradiction  Two women are embracing while holding to go pa...   \n",
       "3     entailment  Two young children in blue jerseys, one with t...   \n",
       "4        neutral  Two young children in blue jerseys, one with t...   \n",
       "\n",
       "                                           sentence2  \n",
       "0  The sisters are hugging goodbye while holding ...  \n",
       "1                    Two woman are holding packages.  \n",
       "2               The men are fighting outside a deli.  \n",
       "3     Two kids in numbered jerseys wash their hands.  \n",
       "4           Two kids at a ballgame wash their hands.  "
      ]
     },
     "execution_count": 53,
     "metadata": {},
     "output_type": "execute_result"
    }
   ],
   "source": [
    "dev=pd.read_json(\"snli_1.0\\snli_1.0_dev.jsonl\",lines=True)\n",
    "dev=pd.concat([dev[\"gold_label\"],dev[\"sentence1\"],dev[\"sentence2\"]],axis=1)\n",
    "dev_size=int(0.1*len(dev))\n",
    "print(dev_size)\n",
    "dev=dev[:dev_size]\n",
    "dev.head()"
   ]
  },
  {
   "cell_type": "code",
   "execution_count": 54,
   "metadata": {},
   "outputs": [
    {
     "name": "stdout",
     "output_type": "stream",
     "text": [
      "['neutral' 'entailment' 'contradiction' '-']\n",
      "['neutral' 'entailment' 'contradiction']\n",
      "980\n"
     ]
    }
   ],
   "source": [
    "print(dev[\"gold_label\"].unique())\n",
    "dev=dev.drop(dev[dev[\"gold_label\"]=='-'].index).reset_index(drop=True)\n",
    "print(dev[\"gold_label\"].unique())\n",
    "print(len(dev))"
   ]
  },
  {
   "cell_type": "code",
   "execution_count": 55,
   "metadata": {},
   "outputs": [
    {
     "data": {
      "text/html": [
       "<div>\n",
       "<style scoped>\n",
       "    .dataframe tbody tr th:only-of-type {\n",
       "        vertical-align: middle;\n",
       "    }\n",
       "\n",
       "    .dataframe tbody tr th {\n",
       "        vertical-align: top;\n",
       "    }\n",
       "\n",
       "    .dataframe thead th {\n",
       "        text-align: right;\n",
       "    }\n",
       "</style>\n",
       "<table border=\"1\" class=\"dataframe\">\n",
       "  <thead>\n",
       "    <tr style=\"text-align: right;\">\n",
       "      <th></th>\n",
       "      <th>gold_label</th>\n",
       "      <th>sentence1</th>\n",
       "      <th>sentence2</th>\n",
       "    </tr>\n",
       "  </thead>\n",
       "  <tbody>\n",
       "    <tr>\n",
       "      <th>0</th>\n",
       "      <td>neutral</td>\n",
       "      <td>This church choir sings to the masses as they ...</td>\n",
       "      <td>The church has cracks in the ceiling.</td>\n",
       "    </tr>\n",
       "    <tr>\n",
       "      <th>1</th>\n",
       "      <td>entailment</td>\n",
       "      <td>This church choir sings to the masses as they ...</td>\n",
       "      <td>The church is filled with song.</td>\n",
       "    </tr>\n",
       "    <tr>\n",
       "      <th>2</th>\n",
       "      <td>contradiction</td>\n",
       "      <td>This church choir sings to the masses as they ...</td>\n",
       "      <td>A choir singing at a baseball game.</td>\n",
       "    </tr>\n",
       "    <tr>\n",
       "      <th>3</th>\n",
       "      <td>neutral</td>\n",
       "      <td>A woman with a green headscarf, blue shirt and...</td>\n",
       "      <td>The woman is young.</td>\n",
       "    </tr>\n",
       "    <tr>\n",
       "      <th>4</th>\n",
       "      <td>entailment</td>\n",
       "      <td>A woman with a green headscarf, blue shirt and...</td>\n",
       "      <td>The woman is very happy.</td>\n",
       "    </tr>\n",
       "  </tbody>\n",
       "</table>\n",
       "</div>"
      ],
      "text/plain": [
       "      gold_label                                          sentence1  \\\n",
       "0        neutral  This church choir sings to the masses as they ...   \n",
       "1     entailment  This church choir sings to the masses as they ...   \n",
       "2  contradiction  This church choir sings to the masses as they ...   \n",
       "3        neutral  A woman with a green headscarf, blue shirt and...   \n",
       "4     entailment  A woman with a green headscarf, blue shirt and...   \n",
       "\n",
       "                               sentence2  \n",
       "0  The church has cracks in the ceiling.  \n",
       "1        The church is filled with song.  \n",
       "2    A choir singing at a baseball game.  \n",
       "3                    The woman is young.  \n",
       "4               The woman is very happy.  "
      ]
     },
     "execution_count": 55,
     "metadata": {},
     "output_type": "execute_result"
    }
   ],
   "source": [
    "test=pd.read_json(\"snli_1.0\\snli_1.0_test.jsonl\",lines=True)\n",
    "test=pd.concat([test[\"gold_label\"],test[\"sentence1\"],test[\"sentence2\"]],axis=1)\n",
    "test.head()"
   ]
  },
  {
   "cell_type": "code",
   "execution_count": 56,
   "metadata": {},
   "outputs": [
    {
     "name": "stdout",
     "output_type": "stream",
     "text": [
      "['neutral' 'entailment' 'contradiction' '-']\n",
      "['neutral' 'entailment' 'contradiction']\n",
      "9824\n"
     ]
    }
   ],
   "source": [
    "print(test[\"gold_label\"].unique())\n",
    "test=test.drop(test[test[\"gold_label\"]=='-'].index).reset_index(drop=True)\n",
    "print(test[\"gold_label\"].unique())\n",
    "print(len(test))"
   ]
  },
  {
   "cell_type": "markdown",
   "metadata": {},
   "source": [
    "### tokenizer"
   ]
  },
  {
   "cell_type": "code",
   "execution_count": 57,
   "metadata": {},
   "outputs": [],
   "source": [
    "# from task1.ipynb\n",
    "import nltk\n",
    "# nltk.download('stopwords')\n",
    "from nltk.corpus import stopwords\n",
    "\n",
    "def tokenization_to_ngram(sentence,n=1):\n",
    "    '''\n",
    "    将句子转化为token,去除停止词,并返回用于n-gram语言建模的特征\n",
    "    '''\n",
    "    stop_words = set(stopwords.words('english'))\n",
    "    # print(type(sentence))\n",
    "    words = re.sub(\"[^\\w]\", \" \",  sentence).split() \n",
    "    filtered_sentence=[w.lower() for w in words if not w in stop_words]\n",
    "    output=[]\n",
    "    if(n!=1):\n",
    "        if(len(filtered_sentence)<n):\n",
    "            # 对于n>len(filtered_sentence)的情况，直接将句子中所有的词拼接\n",
    "            tmp=''\n",
    "            for i in range(len(filtered_sentence)):\n",
    "                tmp=tmp+filtered_sentence[i]\n",
    "            output.append(tmp)\n",
    "            return output\n",
    "        else:\n",
    "            # 对于其他情况，将句子分解为n个词一份\n",
    "            for i in range(len(filtered_sentence)-n+1):\n",
    "                # 这一步是将n个单词拼在一起作为一个单词，这样的话可以视作一个单词，方便一会儿进行哈希\n",
    "                tmp=filtered_sentence[i]\n",
    "                for t in range(1,n):\n",
    "                    tmp+=filtered_sentence[i+t]\n",
    "                output.append(tmp)\n",
    "            return output\n",
    "    else:\n",
    "        return filtered_sentence\n"
   ]
  },
  {
   "cell_type": "code",
   "execution_count": 58,
   "metadata": {},
   "outputs": [],
   "source": [
    "train_sen1=train[\"sentence1\"].apply(tokenization_to_ngram,n=1).to_list()\n",
    "train_sen2=train[\"sentence2\"].apply(tokenization_to_ngram,n=1).to_list()\n",
    "dev_sen1=dev[\"sentence1\"].apply(tokenization_to_ngram,n=1).to_list()\n",
    "dev_sen2=dev[\"sentence2\"].apply(tokenization_to_ngram,n=1).to_list()\n",
    "test_sen1=test[\"sentence1\"].apply(tokenization_to_ngram,n=1).to_list()\n",
    "test_sen2=test[\"sentence2\"].apply(tokenization_to_ngram,n=1).to_list()"
   ]
  },
  {
   "cell_type": "code",
   "execution_count": 59,
   "metadata": {},
   "outputs": [
    {
     "name": "stdout",
     "output_type": "stream",
     "text": [
      "0 0 0\n",
      "3\n"
     ]
    }
   ],
   "source": [
    "# 一般将标签映射到自然数上，这样可以方便在对预测值取argmax的时候进行运算\n",
    "train_label=train[\"gold_label\"].map({\"contradiction\":0,\"entailment\":1,\"neutral\":2})\n",
    "dev_label=dev[\"gold_label\"].map({\"contradiction\":0,\"entailment\":1,\"neutral\":2})\n",
    "test_label=test[\"gold_label\"].map({\"contradiction\":0,\"entailment\":1,\"neutral\":2})\n",
    "train_label.describe()\n",
    "\n",
    "# 有nan\n",
    "print(train_label.isna().sum()\n",
    ",dev_label.isna().sum()\n",
    ",test_label.isna().sum()\n",
    ")\n",
    "# for i in train_label:\n",
    "#     # print(i)\n",
    "#     if(Nan==i):\n",
    "#         print(\"yes\")\n",
    "print(train_label.nunique())"
   ]
  },
  {
   "cell_type": "code",
   "execution_count": 60,
   "metadata": {},
   "outputs": [
    {
     "data": {
      "text/plain": [
       "0    2\n",
       "1    0\n",
       "2    1\n",
       "3    2\n",
       "4    1\n",
       "Name: gold_label, dtype: int64"
      ]
     },
     "execution_count": 60,
     "metadata": {},
     "output_type": "execute_result"
    }
   ],
   "source": [
    "train_label.head()"
   ]
  },
  {
   "cell_type": "code",
   "execution_count": 61,
   "metadata": {},
   "outputs": [
    {
     "name": "stdout",
     "output_type": "stream",
     "text": [
      "['a', 'person', 'horse', 'jumps', 'broken', 'airplane']\n"
     ]
    },
    {
     "data": {
      "text/plain": [
       "131524"
      ]
     },
     "execution_count": 61,
     "metadata": {},
     "output_type": "execute_result"
    }
   ],
   "source": [
    "sentence_list=train_sen1+train_sen2\\\n",
    "    +dev_sen1+dev_sen2\\\n",
    "    +test_sen1+test_sen2\n",
    "print(sentence_list[0])\n",
    "len(sentence_list)"
   ]
  },
  {
   "cell_type": "code",
   "execution_count": 62,
   "metadata": {},
   "outputs": [
    {
     "data": {
      "text/plain": [
       "50"
      ]
     },
     "execution_count": 62,
     "metadata": {},
     "output_type": "execute_result"
    }
   ],
   "source": [
    "# 使用word2vec时，需要先将句子输入做训练\n",
    "model1=Word2Vec(sentence_list,vector_size=50,sg=1)\n",
    "model1.vector_size"
   ]
  },
  {
   "cell_type": "code",
   "execution_count": 63,
   "metadata": {},
   "outputs": [
    {
     "name": "stdout",
     "output_type": "stream",
     "text": [
      "46\n"
     ]
    }
   ],
   "source": [
    "maxSenLen=0\n",
    "for i in sentence_list:\n",
    "    maxSenLen=max(maxSenLen,len(i))\n",
    "print(maxSenLen)"
   ]
  },
  {
   "cell_type": "code",
   "execution_count": 64,
   "metadata": {},
   "outputs": [
    {
     "name": "stdout",
     "output_type": "stream",
     "text": [
      "46\n",
      "[ True  True  True  True  True  True  True  True  True  True  True  True\n",
      "  True  True  True  True  True  True  True  True  True  True  True  True\n",
      "  True  True  True  True  True  True  True  True  True  True  True  True\n",
      "  True  True  True  True  True  True  True  True  True  True  True  True\n",
      "  True  True]\n"
     ]
    }
   ],
   "source": [
    "def sen2word2vec(sentence_list,model=model1,maxlen=maxSenLen):\n",
    "    vecList=np.zeros((maxlen,model.vector_size)) \n",
    "    # vecList=np.zeros((len(sentence_list),model.vector_size)) \n",
    "    \n",
    "    if(sentence_list==[]):\n",
    "        return vecList \n",
    "    # 将列表句子转化为稠密词向量句子\n",
    "    # vecList=np.array([])\n",
    "    for i,e in enumerate(sentence_list):\n",
    "        if(e in model.wv):\n",
    "            vecList[i]=model.wv[e]\n",
    "    return vecList\n",
    "\n",
    "s=['a','good','kjell']\n",
    "p=sen2word2vec(s,model1)\n",
    "print(len(p))\n",
    "print(p[0]==model1.wv['a'])"
   ]
  },
  {
   "attachments": {
    "image.png": {
     "image/png": "[encoded data removed]"
    }
   },
   "cell_type": "markdown",
   "metadata": {},
   "source": [
    "### 语句关系推断\n",
    "\n",
    "task3要求判断输入的两个句子之间的关系。两个句子之间的关系有以下三类：\n",
    "\n",
    "+ neutral(N):中性\n",
    "+ contradiction(C):冲突、相反\n",
    "+ entailment(E):蕴含  \n",
    "\n",
    "本项目中的实现主要参考了以下两个参考资料\n",
    "+ Enhanced LSTM for Natural Language Inference(ESIM)：使用特殊设计的LSTM进行推断\n",
    "+ Reasoning about Entailment with Neural Attention：使用attention机制进行推断，提出了two-way-attention（双向注意力机制）\n",
    "\n",
    "ESIM流程可以概括为：\n",
    "1. 先使用一个LSTM学习两个句子的特征\n",
    "2. 随后进行对特征进行点乘、做差等处理，相当于特征工程\n",
    "3. 输入另一个LSTM中对其两个句子之间的关系进行判断\n",
    "  \n",
    "![image.png](attachment:image.png)\n",
    "\n",
    "在ESIM中加入双向的token-to-token的注意力机制，就是要在第二步的时候使用注意力机制代替原来的局部推理建模 Local Inference Modeling。\n",
    "\n",
    "\n"
   ]
  },
  {
   "attachments": {
    "image.png": {
     "image/png": "[encoded data removed]"
    }
   },
   "cell_type": "markdown",
   "metadata": {},
   "source": [
    "### token2token的双向注意力机制\n",
    "\n",
    "在这个任务中，我们有两个句子A和B，我们的任务是判断A是否在逻辑上蕴含B。\n",
    "\n",
    "token2token attention一般理解为一一计算token之间的注意力分数来计算一个注意力分数矩阵。\n",
    "\n",
    "但是鉴于这里要求参考[Reasoning about Entailment with Neural Attention](https://arxiv.org/pdf/1509.06664v1.pdf)这篇文章，个人倾向去认为这里的token2token attention实际上上指的是该文章中提到的word2word attention.\n",
    "\n",
    "![image.png](attachment:image.png)\n",
    "\n",
    "这种注意力机制先使用LSTM学习A的表征，然后和B的每一个token都做一个attention，并且每个词都需要与前一个词的attention值进行运算。\n",
    "\n",
    "双向的注意力机制则是从BiLSTM得到启发，不仅要在A和B之间进行attention，还要计算B和A之间的attention。\n",
    "\n",
    "假设由LSTM产生的A句子的表征为$Y \\in R^{K \\times L} $，其中L为句子A的长度，K为特征向量的维度。$h_t$表示LSTM对B句子中的第t个token的输出，$h_n$表示在LSTM处理句子B后得到的最后的输出，n为句子B的长度，$e_L$表示A句子最后输出的特征向量，$r_{t-1}$表示t-1时刻的attention值。  \n",
    "由此，我们可以看到token2token的注意力机制的公式为：\n",
    "\n",
    "$$\n",
    "M_t=\\tanh (W_{y}Y+(W_{h}h_t+W_{r}r_{t-1}) \\otimes e_L ) \\\\\n",
    "a_t=softmax(w^TM_t) \\\\\n",
    "r_t=Ya_{t}^{T}+\\tanh(W_tr_{t-1}) \\\\\n",
    "h^*=\\tanh(W_pr_N+W_xh_n)\n",
    "$$\n",
    "\n",
    "而双向的注意力机制，则是将这两个句子的位置调换。其实就是把两句话交换位置再计算一次（虽然效果并不好）。\n",
    "\n",
    "参考资料：  \n",
    "[Enhanced LSTM for Natural Language Inference](https://arxiv.org/abs/1609.06038)  \n",
    "[Reasoning about Entailment with Neural Attention](https://arxiv.org/pdf/1509.06664v1.pdf)  \n",
    "[用注意力机制进行句子蕴含推理](https://zhuanlan.zhihu.com/p/40562196)\n"
   ]
  },
  {
   "cell_type": "code",
   "execution_count": 65,
   "metadata": {},
   "outputs": [
    {
     "name": "stdout",
     "output_type": "stream",
     "text": [
      "torch.Size([10, 5, 10])\n",
      "torch.Size([2, 10, 5])\n",
      "torch.Size([2, 10, 5])\n"
     ]
    }
   ],
   "source": [
    "import torch.nn.utils.rnn as rnn_utils\n",
    "class LSTM(nn.Module):\n",
    "    def __init__(self,d_model,hidden_size,num_layer,output_size=50,dropout=0.1,bid=False) -> None:\n",
    "        super().__init__()\n",
    "        self.d_model=d_model\n",
    "        self.hidden_size=hidden_size\n",
    "        self.layer=num_layer\n",
    "        self.bid=bid\n",
    "        self.rnn=nn.LSTM(d_model,hidden_size,num_layer,\\\n",
    "                        batch_first=True,dropout=dropout,bidirectional=bid)\n",
    "\n",
    "    def forward(self,X,l):\n",
    "        if(self.bid==True):\n",
    "            h0=torch.zeros(2*self.layer,X.size(0),self.hidden_size).to(device)\n",
    "            c0=torch.zeros(2*self.layer,X.size(0),self.hidden_size).to(device)\n",
    "        else:\n",
    "            h0=torch.zeros(self.layer,self.bacth,self.hidden_size).to(device)\n",
    "            c0=torch.zeros(self.layer,self.bacth,self.hidden_size).to(device)\n",
    "        X=rnn_utils.pack_padded_sequence(X,l,batch_first=True,enforce_sorted=False)\n",
    "        X,(hn,cn)=self.rnn(X,(h0,c0))\n",
    "        X,_=rnn_utils.pad_packed_sequence(X,batch_first=True)\n",
    "        return X,hn,cn\n",
    "\n",
    "tmp=torch.ones((10,7,5))\n",
    "l=torch.tensor([3,4,5,5,5,5,5,3,3,3])\n",
    "exam=LSTM(5,5,1,output_size=6,bid=True)\n",
    "a,b,c=exam(tmp,l)\n",
    "print(a.size())\n",
    "print(b.size())\n",
    "print(c.size())\n"
   ]
  },
  {
   "cell_type": "code",
   "execution_count": 66,
   "metadata": {},
   "outputs": [
    {
     "name": "stdout",
     "output_type": "stream",
     "text": [
      "torch.Size([10, 3])\n"
     ]
    }
   ],
   "source": [
    "class ESIM(nn.Module):\n",
    "    def __init__(self,d_model=50,hidden_size=50):\n",
    "        super().__init__()\n",
    "\n",
    "        self.D=d_model\n",
    "        self.K=hidden_size\n",
    "        self.encoder1=LSTM(d_model=self.D,hidden_size=self.K,num_layer=1,bid=True)\n",
    "        self.tan=nn.Tanh()\n",
    "        self.softmax=nn.Softmax(dim=-1)\n",
    "        self.encoder2=LSTM(d_model=2*self.K,hidden_size=2*self.K,num_layer=1,bid=True)\n",
    "        \n",
    "        self.cls=nn.Sequential(\n",
    "            nn.Linear(in_features=800,out_features=400),\n",
    "            nn.ReLU(),\n",
    "            nn.Linear(in_features=400,out_features=200),\n",
    "            nn.ReLU(),\n",
    "            nn.Linear(in_features=200,out_features=3),\n",
    "            nn.Softmax()\n",
    "        )\n",
    "    \n",
    "        self.W1=nn.ModuleList([\n",
    "            # W_y\n",
    "            nn.Linear(in_features=2*self.K,out_features=2*self.K,bias=False),\n",
    "            # W_h\n",
    "            nn.Linear(in_features=2*self.K,out_features=2*self.K,bias=False),\n",
    "            # W_r\n",
    "            nn.Linear(in_features=2*self.K,out_features=2*self.K,bias=False),\n",
    "            # W_t\n",
    "            nn.Linear(in_features=2*self.K,out_features=2*self.K,bias=False),\n",
    "            # W_p\n",
    "            nn.Linear(in_features=2*self.K,out_features=2*self.K,bias=False),\n",
    "            # W_x\n",
    "            nn.Linear(in_features=2*self.K,out_features=2*self.K,bias=False),\n",
    "            # w^T\n",
    "            nn.Linear(in_features=2*self.K,out_features=1,bias=False)\n",
    "        ])\n",
    "        self.W2=nn.ModuleList([\n",
    "            # W_y\n",
    "            nn.Linear(in_features=2*self.K,out_features=2*self.K,bias=False),\n",
    "            # W_h\n",
    "            nn.Linear(in_features=2*self.K,out_features=2*self.K,bias=False),\n",
    "            # W_r\n",
    "            nn.Linear(in_features=2*self.K,out_features=2*self.K,bias=False),\n",
    "            # W_t\n",
    "            nn.Linear(in_features=2*self.K,out_features=2*self.K,bias=False),\n",
    "            # W_p\n",
    "            nn.Linear(in_features=2*self.K,out_features=2*self.K,bias=False),\n",
    "            # W_x\n",
    "            nn.Linear(in_features=2*self.K,out_features=2*self.K,bias=False),\n",
    "            # w^T\n",
    "            nn.Linear(in_features=2*self.K,out_features=1,bias=False)\n",
    "        ])\n",
    "\n",
    "    def T2TAtt(self,s1,s2,l1,l2,w=1):\n",
    "        a,b,c=s2.size(0),s2.size(1),s2.size(2)\n",
    "        # print(a,b,c)\n",
    "        h=torch.zeros((a,b,c))\n",
    "        for i,l in enumerate(l2):\n",
    "            if(w==1):\n",
    "                M1=self.tan(self.W1[0](s1[i])+torch.mul(self.W1[1](s2[i,0,:]),s1[i,-1,:]))\n",
    "                a1=self.softmax(self.W1[6](M1))\n",
    "                rt=a1.T@s1[i]\n",
    "                h[i,0]=self.tan(self.W1[4](rt)+self.W1[5](s2[i,-1,:]))\n",
    "                for t in range(1,l):\n",
    "                    M1=self.tan(self.W1[0](s1[i])+torch.mul(self.W1[1](s2[i,t,:])+self.W1[2](rt),s1[i,-1,:]))\n",
    "                    a1=self.softmax(self.W1[6](M1))\n",
    "                    rt=a1.T@s1[i]+self.softmax(self.W1[3](rt))\n",
    "                    h[i,t]=self.tan(self.W1[4](rt)+self.W1[5](s2[i,-1,:]))\n",
    "            else:\n",
    "                M1=self.tan(self.W2[0](s1[i])+torch.mul(self.W2[1](s2[i,0,:]),s1[i,-1,:]))\n",
    "                a1=self.softmax(self.W2[6](M1))\n",
    "                rt=a1.T@s1[i]\n",
    "                h[i,0]=self.tan(self.W2[4](rt)+self.W2[5](s2[i,-1,:]))\n",
    "                for t in range(l):\n",
    "                    M1=self.tan(self.W2[0](s1[i])+torch.mul(self.W2[1](s2[i,t,:])+self.W2[2](rt),s1[i,-1,:]))\n",
    "                    a1=self.softmax(self.W2[6](M1))\n",
    "                    rt=a1.T@s1[i]+self.softmax(self.W2[3](rt))\n",
    "                    h[i,t]=self.tan(self.W2[4](rt)+self.W2[5](s2[i,-1,:]))\n",
    "        return h\n",
    "\n",
    "    def avepool(self,V,L):\n",
    "        tmp=torch.zeros((V.size(0),V.size(2)))\n",
    "        for i,l in enumerate(L):\n",
    "            k=torch.mean(V[i,:l,:],dim=0)\n",
    "            tmp[i]=k\n",
    "        return tmp\n",
    "         \n",
    "    \n",
    "    def maxpool(self,V,L):    \n",
    "        tmp=torch.zeros((V.size(0),V.size(2)))\n",
    "        for i,l in enumerate(L):\n",
    "            # 返回一个元组 (max_values, max_indices)，其中 max_values 是张量中每个切片沿指定维度的最大值，max_indices 是对应的最大值的索引\n",
    "            k,_=torch.max(V[i,:l,:],dim=0)\n",
    "            tmp[i]=k\n",
    "        return tmp\n",
    "        \n",
    "    \n",
    "    def forward(self,s1,s2,l1,l2):\n",
    "        # encoder1\n",
    "        # 先使用pack_pad_seq对序列进行打包，然后再pad_packed_seq进行解包\n",
    "        f1,_,_=self.encoder1(s1,l1)\n",
    "        f2,_,_=self.encoder1(s2,l2)\n",
    "        # 2 way t2t att\n",
    "        # 将两个句子根据自己的长度l1,l2进行att\n",
    "        h1=self.T2TAtt(f1,f2,l1,l2,w=1)\n",
    "        h2=self.T2TAtt(f2,f1,l2,l1,w=2)\n",
    "        # encoder2\n",
    "        # 先使用pack_pad_seq对序列进行打包，然后再pad_packed_seq进行解包\n",
    "        v1,_,_=self.encoder2(h1,l2)\n",
    "        v2,_,_=self.encoder2(h2,l1)\n",
    "        \n",
    "        # pool\n",
    "        # 将两个句子根据自己的长度l1,l2进行pool和cls\n",
    "        v1_ave=self.avepool(v1,l2)\n",
    "        v1_max=self.maxpool(v1,l2)\n",
    "        v2_ave=self.avepool(v2,l1)\n",
    "        v2_max=self.maxpool(v2,l1)\n",
    "        V=torch.concat([v1_ave,v1_max,v2_ave,v2_max],dim=-1)\n",
    "        # cls\n",
    "        output=self.cls(V)\n",
    "        return output\n",
    "\n",
    "A=torch.ones((10,7,50))\n",
    "B=torch.ones((10,5,50))\n",
    "es=ESIM()\n",
    "la,lb=torch.tensor([5,4,5,5,5,5,5,4,4,4]),torch.tensor([4,3,3,3,3,4,4,4,4,4])\n",
    "v=es(A,B,la,lb)\n",
    "print(v.size())\n"
   ]
  },
  {
   "cell_type": "markdown",
   "metadata": {},
   "source": [
    "### 数据集"
   ]
  },
  {
   "cell_type": "code",
   "execution_count": 76,
   "metadata": {},
   "outputs": [],
   "source": [
    "\n",
    "class MyDataset(Dataset):\n",
    "    def __init__(self,s1,s2,label):\n",
    "        self.s1=s1\n",
    "        self.s2=s2\n",
    "        self.label=label\n",
    "    \n",
    "    def __len__(self):\n",
    "        return len(self.label)\n",
    "    \n",
    "    def __getitem__(self,index):\n",
    "        s1=self.s1[index]\n",
    "        s2=self.s2[index]    \n",
    "        \n",
    "        l=self.label[index]\n",
    "        la=lambda x: x if x>0 else 1\n",
    "        l1=la(len(s1))\n",
    "        l2=la(len(s2))\n",
    "        return  sen2word2vec(s1),sen2word2vec(s2),l1,l2,l\n",
    "    "
   ]
  },
  {
   "cell_type": "code",
   "execution_count": 77,
   "metadata": {},
   "outputs": [],
   "source": [
    "def TrainModel(model,train,dev,loss_fn=nn.CrossEntropyLoss(),epoch=3):\n",
    "    optimizer=optim.SGD(model.parameters(),lr=0.00001)\n",
    "    for i in range(epoch):\n",
    "        model.train()\n",
    "        for s1,s2,l1,l2,y in train:\n",
    "            optimizer.zero_grad()\n",
    "            s1=s1.float()\n",
    "            s2=s2.float()\n",
    "            y=y.long()\n",
    "            s1,s2,l1,l2,y=s1.to(device),s2.to(device),l1.to(device),l2.to(device),y.to(device)\n",
    "            output=model(s1,s2,l1,l2)\n",
    "            loss=loss_fn(output,y)\n",
    "            loss.backward()\n",
    "            optimizer.step()\n",
    "        model.eval()\n",
    "        val_loss = 0\n",
    "        correct = 0\n",
    "        with torch.no_grad():\n",
    "            for s1,s2,l1,l2,y in dev:\n",
    "                s1=s1.float()\n",
    "                s2=s2.float()\n",
    "                y=y.long()\n",
    "                s1,s2,l1,l2,y=s1.to(device),s2.to(device),l1.to(device),l2.to(device),y.to(device)\n",
    "                outputs = model(s1,s2,l1,l2)\n",
    "                val_loss += loss_fn(outputs, y).item()\n",
    "                _, predicted = torch.max(outputs.data, dim=1)\n",
    "                correct += (predicted == y).sum().item()\n",
    "        val_loss /= len(dev.dataset)\n",
    "        val_accuracy = 100.0 * correct / len(dev.dataset)\n",
    "        print('Epoch [{}/{}], train_Loss: {:.4f}, Validation Loss: {:.4f}, Accuracy: {:.2f}%'\\\n",
    "              .format(i+1, epoch, loss.item(),val_loss,val_accuracy))\n",
    "\n",
    "    return model"
   ]
  },
  {
   "cell_type": "code",
   "execution_count": 78,
   "metadata": {},
   "outputs": [],
   "source": [
    "\n",
    "def eval_model(model,test,loss_fn=nn.CrossEntropyLoss()):\n",
    "    model.eval()\n",
    "    test_loss = 0\n",
    "    correct = 0\n",
    "    with torch.no_grad():\n",
    "        for s1,s2,l1,l2,y in test:\n",
    "            s1=s1.float()\n",
    "            s2=s2.float()\n",
    "            y=y.long()\n",
    "            s1,s2,l1,l2,y=s1.to(device),s2.to(device),l1.to(device),l2.to(device),y.to(device)\n",
    "            outputs = model(s1,s2,l1,l2)\n",
    "            test_loss += loss_fn(outputs,y).item()\n",
    "            _, predicted = torch.max(outputs.data, dim=1)\n",
    "            correct += (predicted==y).sum().item()\n",
    "\n",
    "    test_loss/=len(test.dataset)\n",
    "    test_accuracy = 100.0*correct/len(test.dataset)\n",
    "\n",
    "    print('Test Loss: {:.4f}, Accuracy: {:.2f}%'.format(test_loss,test_accuracy))        "
   ]
  },
  {
   "cell_type": "code",
   "execution_count": null,
   "metadata": {},
   "outputs": [],
   "source": []
  },
  {
   "cell_type": "code",
   "execution_count": 79,
   "metadata": {},
   "outputs": [],
   "source": [
    "batch_size=64\n",
    "epoch=3\n",
    "train_dataset=MyDataset(train_sen1,train_sen2,train_label)\n",
    "train_dataloader=DataLoader(train_dataset,batch_size=batch_size,shuffle=True)#,collate_fn=my_collate\n",
    "dev_dataset=MyDataset(dev_sen1,dev_sen2,dev_label)\n",
    "dev_dataloader=DataLoader(dev_dataset,batch_size=batch_size,shuffle=True)#,collate_fn=my_collate\n",
    "test_dataset=MyDataset(test_sen1,test_sen2,test_label)\n",
    "test_dataloader=DataLoader(test_dataset,batch_size=1)#,collate_fn=my_collate"
   ]
  },
  {
   "cell_type": "code",
   "execution_count": 80,
   "metadata": {},
   "outputs": [
    {
     "name": "stdout",
     "output_type": "stream",
     "text": [
      "Epoch [1/3], train_Loss: 1.0993, Validation Loss: 0.0179, Accuracy: 33.27%\n",
      "Epoch [2/3], train_Loss: 1.1047, Validation Loss: 0.0179, Accuracy: 33.27%\n",
      "Epoch [3/3], train_Loss: 1.0989, Validation Loss: 0.0179, Accuracy: 33.27%\n",
      "Test Loss: 1.0989, Accuracy: 32.77%\n"
     ]
    }
   ],
   "source": [
    "# esim\n",
    "esim=ESIM().to(device)\n",
    "esim=TrainModel(esim,train_dataloader,dev_dataloader,epoch=epoch)\n",
    "eval_model(esim,test_dataloader)"
   ]
  },
  {
   "cell_type": "code",
   "execution_count": null,
   "metadata": {},
   "outputs": [],
   "source": [
    "\n",
    "\n"
   ]
  },
  {
   "cell_type": "code",
   "execution_count": null,
   "metadata": {},
   "outputs": [],
   "source": []
  },
  {
   "cell_type": "code",
   "execution_count": null,
   "metadata": {},
   "outputs": [],
   "source": []
  },
  {
   "cell_type": "code",
   "execution_count": null,
   "metadata": {},
   "outputs": [],
   "source": []
  }
 ],
 "metadata": {
  "kernelspec": {
   "display_name": "DL2024",
   "language": "python",
   "name": "python3"
  },
  "language_info": {
   "codemirror_mode": {
    "name": "ipython",
    "version": 3
   },
   "file_extension": ".py",
   "mimetype": "text/x-python",
   "name": "python",
   "nbconvert_exporter": "python",
   "pygments_lexer": "ipython3",
   "version": "3.9.18"
  }
 },
 "nbformat": 4,
 "nbformat_minor": 2
}
