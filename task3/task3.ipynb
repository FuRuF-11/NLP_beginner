{
 "cells": [
  {
   "cell_type": "code",
   "execution_count": 1,
   "metadata": {},
   "outputs": [],
   "source": [
    "# 数据分析/处理\n",
    "import numpy as np\n",
    "import pandas as pd\n",
    "import re\n",
    "\n",
    "# 搭建神经网络\n",
    "import torch\n",
    "import torch.nn as nn\n",
    "import torch.nn.functional as F\n",
    "import torch.nn.init as init\n",
    "from torch import optim\n",
    "from torch.utils.data import Dataset,DataLoader\n",
    "\n",
    "# 数据可视化\n",
    "import matplotlib.pyplot as plt\n",
    "import warnings\n",
    "\n",
    "# word2vec\n",
    "from gensim.models import Word2Vec\n",
    "\n",
    "\n",
    "warnings.filterwarnings('ignore')\n",
    "%matplotlib inline"
   ]
  },
  {
   "cell_type": "code",
   "execution_count": 2,
   "metadata": {},
   "outputs": [
    {
     "data": {
      "text/plain": [
       "<torch._C.Generator at 0x29d641bf430>"
      ]
     },
     "execution_count": 2,
     "metadata": {},
     "output_type": "execute_result"
    }
   ],
   "source": [
    "# 验证cuda是否可用\n",
    "cuda_available=torch.cuda.is_available()\n",
    "device = torch.device(\"cuda\" if cuda_available else \"cpu\")\n",
    "if cuda_available:\n",
    "    print(\"CUDA Device Name:\", torch.cuda.get_device_name(0))\n",
    "    print(\"CUDA Compute Capability:\", torch.cuda.get_device_capability(0))\n",
    "# 宇宙的答案\n",
    "np.random.seed(42)\n",
    "torch.manual_seed(42)"
   ]
  },
  {
   "cell_type": "markdown",
   "metadata": {},
   "source": [
    "### 数据集  \n",
    "这里使用的数据集是斯坦福大学提供的SNLI数据集，这个数据集中有两种可以处理的数据类型。  \n",
    "+ json\n",
    "+ txt\n",
    "\n",
    "在本数据集中，两类文件部分内容有差异，但是我们所需要的两个句子和标签在两类文件中是完全一样的。也就是说，我们仅需要载入json或者txt两种格式中的一种来进行训练。"
   ]
  },
  {
   "cell_type": "code",
   "execution_count": 4,
   "metadata": {},
   "outputs": [
    {
     "data": {
      "text/html": [
       "<div>\n",
       "<style scoped>\n",
       "    .dataframe tbody tr th:only-of-type {\n",
       "        vertical-align: middle;\n",
       "    }\n",
       "\n",
       "    .dataframe tbody tr th {\n",
       "        vertical-align: top;\n",
       "    }\n",
       "\n",
       "    .dataframe thead th {\n",
       "        text-align: right;\n",
       "    }\n",
       "</style>\n",
       "<table border=\"1\" class=\"dataframe\">\n",
       "  <thead>\n",
       "    <tr style=\"text-align: right;\">\n",
       "      <th></th>\n",
       "      <th>gold_label</th>\n",
       "      <th>sentence1</th>\n",
       "      <th>sentence2</th>\n",
       "    </tr>\n",
       "  </thead>\n",
       "  <tbody>\n",
       "    <tr>\n",
       "      <th>0</th>\n",
       "      <td>neutral</td>\n",
       "      <td>A person on a horse jumps over a broken down a...</td>\n",
       "      <td>A person is training his horse for a competition.</td>\n",
       "    </tr>\n",
       "    <tr>\n",
       "      <th>1</th>\n",
       "      <td>contradiction</td>\n",
       "      <td>A person on a horse jumps over a broken down a...</td>\n",
       "      <td>A person is at a diner, ordering an omelette.</td>\n",
       "    </tr>\n",
       "    <tr>\n",
       "      <th>2</th>\n",
       "      <td>entailment</td>\n",
       "      <td>A person on a horse jumps over a broken down a...</td>\n",
       "      <td>A person is outdoors, on a horse.</td>\n",
       "    </tr>\n",
       "    <tr>\n",
       "      <th>3</th>\n",
       "      <td>neutral</td>\n",
       "      <td>Children smiling and waving at camera</td>\n",
       "      <td>They are smiling at their parents</td>\n",
       "    </tr>\n",
       "    <tr>\n",
       "      <th>4</th>\n",
       "      <td>entailment</td>\n",
       "      <td>Children smiling and waving at camera</td>\n",
       "      <td>There are children present</td>\n",
       "    </tr>\n",
       "  </tbody>\n",
       "</table>\n",
       "</div>"
      ],
      "text/plain": [
       "      gold_label                                          sentence1  \\\n",
       "0        neutral  A person on a horse jumps over a broken down a...   \n",
       "1  contradiction  A person on a horse jumps over a broken down a...   \n",
       "2     entailment  A person on a horse jumps over a broken down a...   \n",
       "3        neutral              Children smiling and waving at camera   \n",
       "4     entailment              Children smiling and waving at camera   \n",
       "\n",
       "                                           sentence2  \n",
       "0  A person is training his horse for a competition.  \n",
       "1      A person is at a diner, ordering an omelette.  \n",
       "2                  A person is outdoors, on a horse.  \n",
       "3                  They are smiling at their parents  \n",
       "4                         There are children present  "
      ]
     },
     "execution_count": 4,
     "metadata": {},
     "output_type": "execute_result"
    }
   ],
   "source": [
    "# use txt\n",
    "# train=pd.read_csv(\"snli_1.0\\snli_1.0_train.txt\",delimiter='\\t')\n",
    "# use json\n",
    "train=pd.read_json(\"snli_1.0\\snli_1.0_train.jsonl\",lines=True)\n",
    "train=pd.concat([train[\"gold_label\"],train[\"sentence1\"],train[\"sentence2\"]],axis=1)\n",
    "train.head()"
   ]
  },
  {
   "cell_type": "code",
   "execution_count": 5,
   "metadata": {},
   "outputs": [
    {
     "data": {
      "text/html": [
       "<div>\n",
       "<style scoped>\n",
       "    .dataframe tbody tr th:only-of-type {\n",
       "        vertical-align: middle;\n",
       "    }\n",
       "\n",
       "    .dataframe tbody tr th {\n",
       "        vertical-align: top;\n",
       "    }\n",
       "\n",
       "    .dataframe thead th {\n",
       "        text-align: right;\n",
       "    }\n",
       "</style>\n",
       "<table border=\"1\" class=\"dataframe\">\n",
       "  <thead>\n",
       "    <tr style=\"text-align: right;\">\n",
       "      <th></th>\n",
       "      <th>gold_label</th>\n",
       "      <th>sentence1</th>\n",
       "      <th>sentence2</th>\n",
       "    </tr>\n",
       "  </thead>\n",
       "  <tbody>\n",
       "    <tr>\n",
       "      <th>0</th>\n",
       "      <td>neutral</td>\n",
       "      <td>Two women are embracing while holding to go pa...</td>\n",
       "      <td>The sisters are hugging goodbye while holding ...</td>\n",
       "    </tr>\n",
       "    <tr>\n",
       "      <th>1</th>\n",
       "      <td>entailment</td>\n",
       "      <td>Two women are embracing while holding to go pa...</td>\n",
       "      <td>Two woman are holding packages.</td>\n",
       "    </tr>\n",
       "    <tr>\n",
       "      <th>2</th>\n",
       "      <td>contradiction</td>\n",
       "      <td>Two women are embracing while holding to go pa...</td>\n",
       "      <td>The men are fighting outside a deli.</td>\n",
       "    </tr>\n",
       "    <tr>\n",
       "      <th>3</th>\n",
       "      <td>entailment</td>\n",
       "      <td>Two young children in blue jerseys, one with t...</td>\n",
       "      <td>Two kids in numbered jerseys wash their hands.</td>\n",
       "    </tr>\n",
       "    <tr>\n",
       "      <th>4</th>\n",
       "      <td>neutral</td>\n",
       "      <td>Two young children in blue jerseys, one with t...</td>\n",
       "      <td>Two kids at a ballgame wash their hands.</td>\n",
       "    </tr>\n",
       "  </tbody>\n",
       "</table>\n",
       "</div>"
      ],
      "text/plain": [
       "      gold_label                                          sentence1  \\\n",
       "0        neutral  Two women are embracing while holding to go pa...   \n",
       "1     entailment  Two women are embracing while holding to go pa...   \n",
       "2  contradiction  Two women are embracing while holding to go pa...   \n",
       "3     entailment  Two young children in blue jerseys, one with t...   \n",
       "4        neutral  Two young children in blue jerseys, one with t...   \n",
       "\n",
       "                                           sentence2  \n",
       "0  The sisters are hugging goodbye while holding ...  \n",
       "1                    Two woman are holding packages.  \n",
       "2               The men are fighting outside a deli.  \n",
       "3     Two kids in numbered jerseys wash their hands.  \n",
       "4           Two kids at a ballgame wash their hands.  "
      ]
     },
     "execution_count": 5,
     "metadata": {},
     "output_type": "execute_result"
    }
   ],
   "source": [
    "dev=pd.read_json(\"snli_1.0\\snli_1.0_dev.jsonl\",lines=True)\n",
    "dev=pd.concat([dev[\"gold_label\"],dev[\"sentence1\"],dev[\"sentence2\"]],axis=1)\n",
    "dev.head()"
   ]
  },
  {
   "cell_type": "code",
   "execution_count": 6,
   "metadata": {},
   "outputs": [
    {
     "data": {
      "text/html": [
       "<div>\n",
       "<style scoped>\n",
       "    .dataframe tbody tr th:only-of-type {\n",
       "        vertical-align: middle;\n",
       "    }\n",
       "\n",
       "    .dataframe tbody tr th {\n",
       "        vertical-align: top;\n",
       "    }\n",
       "\n",
       "    .dataframe thead th {\n",
       "        text-align: right;\n",
       "    }\n",
       "</style>\n",
       "<table border=\"1\" class=\"dataframe\">\n",
       "  <thead>\n",
       "    <tr style=\"text-align: right;\">\n",
       "      <th></th>\n",
       "      <th>gold_label</th>\n",
       "      <th>sentence1</th>\n",
       "      <th>sentence2</th>\n",
       "    </tr>\n",
       "  </thead>\n",
       "  <tbody>\n",
       "    <tr>\n",
       "      <th>0</th>\n",
       "      <td>neutral</td>\n",
       "      <td>This church choir sings to the masses as they ...</td>\n",
       "      <td>The church has cracks in the ceiling.</td>\n",
       "    </tr>\n",
       "    <tr>\n",
       "      <th>1</th>\n",
       "      <td>entailment</td>\n",
       "      <td>This church choir sings to the masses as they ...</td>\n",
       "      <td>The church is filled with song.</td>\n",
       "    </tr>\n",
       "    <tr>\n",
       "      <th>2</th>\n",
       "      <td>contradiction</td>\n",
       "      <td>This church choir sings to the masses as they ...</td>\n",
       "      <td>A choir singing at a baseball game.</td>\n",
       "    </tr>\n",
       "    <tr>\n",
       "      <th>3</th>\n",
       "      <td>neutral</td>\n",
       "      <td>A woman with a green headscarf, blue shirt and...</td>\n",
       "      <td>The woman is young.</td>\n",
       "    </tr>\n",
       "    <tr>\n",
       "      <th>4</th>\n",
       "      <td>entailment</td>\n",
       "      <td>A woman with a green headscarf, blue shirt and...</td>\n",
       "      <td>The woman is very happy.</td>\n",
       "    </tr>\n",
       "  </tbody>\n",
       "</table>\n",
       "</div>"
      ],
      "text/plain": [
       "      gold_label                                          sentence1  \\\n",
       "0        neutral  This church choir sings to the masses as they ...   \n",
       "1     entailment  This church choir sings to the masses as they ...   \n",
       "2  contradiction  This church choir sings to the masses as they ...   \n",
       "3        neutral  A woman with a green headscarf, blue shirt and...   \n",
       "4     entailment  A woman with a green headscarf, blue shirt and...   \n",
       "\n",
       "                               sentence2  \n",
       "0  The church has cracks in the ceiling.  \n",
       "1        The church is filled with song.  \n",
       "2    A choir singing at a baseball game.  \n",
       "3                    The woman is young.  \n",
       "4               The woman is very happy.  "
      ]
     },
     "execution_count": 6,
     "metadata": {},
     "output_type": "execute_result"
    }
   ],
   "source": [
    "test=pd.read_json(\"snli_1.0\\snli_1.0_test.jsonl\",lines=True)\n",
    "test=pd.concat([test[\"gold_label\"],test[\"sentence1\"],test[\"sentence2\"]],axis=1)\n",
    "test.head()"
   ]
  },
  {
   "cell_type": "code",
   "execution_count": null,
   "metadata": {},
   "outputs": [],
   "source": []
  },
  {
   "cell_type": "markdown",
   "metadata": {},
   "source": [
    "### tokenizer"
   ]
  },
  {
   "cell_type": "code",
   "execution_count": 7,
   "metadata": {},
   "outputs": [],
   "source": [
    "# from task1.ipynb\n",
    "import nltk\n",
    "# nltk.download('stopwords')\n",
    "from nltk.corpus import stopwords\n",
    "\n",
    "def tokenization_to_ngram(sentence,n=1):\n",
    "    '''\n",
    "    将句子转化为token,去除停止词,并返回用于n-gram语言建模的特征\n",
    "    '''\n",
    "    stop_words = set(stopwords.words('english'))\n",
    "    # print(type(sentence))\n",
    "    words = re.sub(\"[^\\w]\", \" \",  sentence).split() \n",
    "    filtered_sentence=[w.lower() for w in words if not w in stop_words]\n",
    "    output=[]\n",
    "    if(n!=1):\n",
    "        if(len(filtered_sentence)<n):\n",
    "            # 对于n>len(filtered_sentence)的情况，直接将句子中所有的词拼接\n",
    "            tmp=''\n",
    "            for i in range(len(filtered_sentence)):\n",
    "                tmp=tmp+filtered_sentence[i]\n",
    "            output.append(tmp)\n",
    "            return output\n",
    "        else:\n",
    "            # 对于其他情况，将句子分解为n个词一份\n",
    "            for i in range(len(filtered_sentence)-n+1):\n",
    "                # 这一步是将n个单词拼在一起作为一个单词，这样的话可以视作一个单词，方便一会儿进行哈希\n",
    "                tmp=filtered_sentence[i]\n",
    "                for t in range(1,n):\n",
    "                    tmp+=filtered_sentence[i+t]\n",
    "                output.append(tmp)\n",
    "            return output\n",
    "    else:\n",
    "        return filtered_sentence\n"
   ]
  },
  {
   "cell_type": "code",
   "execution_count": 8,
   "metadata": {},
   "outputs": [],
   "source": [
    "train_sen1=train[\"sentence1\"].apply(tokenization_to_ngram,n=1).to_list()\n",
    "train_sen2=train[\"sentence2\"].apply(tokenization_to_ngram,n=1).to_list()\n",
    "dev_sen1=dev[\"sentence1\"].apply(tokenization_to_ngram,n=1).to_list()\n",
    "dev_sen2=dev[\"sentence2\"].apply(tokenization_to_ngram,n=1).to_list()\n",
    "test_sen1=test[\"sentence1\"].apply(tokenization_to_ngram,n=1).to_list()\n",
    "test_sen2=test[\"sentence2\"].apply(tokenization_to_ngram,n=1).to_list()"
   ]
  },
  {
   "cell_type": "code",
   "execution_count": 9,
   "metadata": {},
   "outputs": [
    {
     "name": "stdout",
     "output_type": "stream",
     "text": [
      "['a', 'person', 'horse', 'jumps', 'broken', 'airplane']\n"
     ]
    },
    {
     "data": {
      "text/plain": [
       "1140304"
      ]
     },
     "execution_count": 9,
     "metadata": {},
     "output_type": "execute_result"
    }
   ],
   "source": [
    "sentence_list=train_sen1+train_sen2\\\n",
    "    +dev_sen1+dev_sen2\\\n",
    "    +test_sen1+test_sen2\n",
    "print(sentence_list[0])\n",
    "len(sentence_list)"
   ]
  },
  {
   "cell_type": "code",
   "execution_count": 10,
   "metadata": {},
   "outputs": [
    {
     "data": {
      "text/plain": [
       "50"
      ]
     },
     "execution_count": 10,
     "metadata": {},
     "output_type": "execute_result"
    }
   ],
   "source": [
    "# 使用word2vec时，需要先将句子输入做训练\n",
    "model1=Word2Vec(sentence_list,vector_size=50,sg=1)\n",
    "model1.vector_size"
   ]
  },
  {
   "cell_type": "code",
   "execution_count": 11,
   "metadata": {},
   "outputs": [
    {
     "name": "stdout",
     "output_type": "stream",
     "text": [
      "46\n"
     ]
    }
   ],
   "source": [
    "maxSenLen=0\n",
    "for i in sentence_list:\n",
    "    maxSenLen=max(maxSenLen,len(i))\n",
    "print(maxSenLen)"
   ]
  },
  {
   "cell_type": "code",
   "execution_count": 12,
   "metadata": {},
   "outputs": [
    {
     "name": "stdout",
     "output_type": "stream",
     "text": [
      "3\n",
      "[ True  True  True  True  True  True  True  True  True  True  True  True\n",
      "  True  True  True  True  True  True  True  True  True  True  True  True\n",
      "  True  True  True  True  True  True  True  True  True  True  True  True\n",
      "  True  True  True  True  True  True  True  True  True  True  True  True\n",
      "  True  True]\n"
     ]
    }
   ],
   "source": [
    "def sen2word2vec(sentence_list,model=model1,maxlen=maxSenLen):\n",
    "    # 因为在处理两个句子时会使用到池化，所以我们不需要对齐句子的长度\n",
    "    # vecList=np.zeros((maxlen,model.vector_size)) \n",
    "    vecList=np.zeros((len(sentence_list),model.vector_size)) \n",
    "    \n",
    "    if(sentence_list==[]):\n",
    "        return vecList \n",
    "    # 将列表句子转化为稠密词向量句子\n",
    "    # vecList=np.array([])\n",
    "    for i,e in enumerate(sentence_list):\n",
    "        if(e in model.wv):\n",
    "            vecList[i]=model.wv[e]\n",
    "    return vecList\n",
    "\n",
    "s=['a','good','kjell']\n",
    "# print(model1.wv[s])\n",
    "p=sen2word2vec(s,model1)\n",
    "print(len(p))\n",
    "print(p[0]==model1.wv['a'])"
   ]
  },
  {
   "attachments": {
    "image.png": {
     "image/png": "[encoded data removed]"
    }
   },
   "cell_type": "markdown",
   "metadata": {},
   "source": [
    "### 语句关系推断\n",
    "\n",
    "task3要求判断输入的两个句子之间的关系。两个句子之间的关系有以下三类：\n",
    "\n",
    "+ neutral(N):中性\n",
    "+ contradiction(C):冲突、相反\n",
    "+ entailment(E):蕴含  \n",
    "\n",
    "本项目中的实现主要参考了以下两个参考资料\n",
    "+ Enhanced LSTM for Natural Language Inference(ESIM)：使用特殊设计的LSTM进行推断\n",
    "+ Reasoning about Entailment with Neural Attention：使用attention机制进行推断，提出了two-way-attention（双向注意力机制）\n",
    "\n",
    "ESIM流程可以概括为：\n",
    "1. 先使用一个LSTM学习两个句子的特征\n",
    "2. 随后进行对特征进行点乘、做差等处理，相当于特征工程\n",
    "3. 输入另一个LSTM中对其两个句子之间的关系进行判断\n",
    "  \n",
    "![image.png](attachment:image.png)\n",
    "\n",
    "在ESIM中加入双向的token-to-token的注意力机制，就是要在第二步的时候使用注意力机制代替原来的局部推理建模 Local Inference Modeling。\n",
    "\n",
    "\n"
   ]
  },
  {
   "cell_type": "markdown",
   "metadata": {},
   "source": [
    "### 定义模型"
   ]
  },
  {
   "cell_type": "code",
   "execution_count": 3,
   "metadata": {},
   "outputs": [
    {
     "name": "stdout",
     "output_type": "stream",
     "text": [
      "torch.Size([3, 4, 10])\n",
      "torch.Size([2, 3, 5])\n",
      "torch.Size([2, 3, 5])\n"
     ]
    }
   ],
   "source": [
    "\n",
    "class LSTM(nn.Module):\n",
    "    def __init__(self,d_model,hidden_size,num_layer,output_size=50,dropout=0.1,bid=False) -> None:\n",
    "        super().__init__()\n",
    "        self.d_model=d_model\n",
    "        self.hidden_size=hidden_size\n",
    "        self.layer=num_layer\n",
    "        self.bid=bid\n",
    "        \n",
    "        self.rnn=nn.LSTM(d_model,hidden_size,num_layer,\\\n",
    "                        batch_first=True,dropout=dropout,bidirectional=bid)\n",
    "        # self.classfier=nn.Sequential(\n",
    "        #     nn.Linear(hidden_size,output_size),\n",
    "        #     nn.ReLU(),\n",
    "        #     nn.Softmax(output_size)\n",
    "        # )\n",
    "\n",
    "    def forward(self,X):\n",
    "        if(self.bid==True):\n",
    "            h0=torch.zeros(2*self.layer,X.size(0),self.hidden_size).to(device)\n",
    "            c0=torch.zeros(2*self.layer,X.size(0),self.hidden_size).to(device)\n",
    "        else:\n",
    "            h0=torch.zeros(self.layer,X.size(0),self.hidden_size).to(device)\n",
    "            c0=torch.zeros(self.layer,X.size(0),self.hidden_size).to(device)\n",
    "        X,(hn,cn)=self.rnn(X,(h0,c0))\n",
    "        # out=self.classfier(X[:,-1,:])\n",
    "        return X,hn,cn\n",
    "\n",
    "tmp=torch.ones(3,4,5)\n",
    "exam=LSTM(5,5,1,6,bid=True)\n",
    "a,b,c=exam(tmp)\n",
    "print(a.size())\n",
    "print(b.size())\n",
    "print(c.size())\n",
    "\n"
   ]
  },
  {
   "cell_type": "markdown",
   "metadata": {},
   "source": [
    "### token2token的双向注意力机制\n",
    "\n",
    "在这个任务中，我们有两个句子A和B，我们的任务是判断A是否在逻辑上蕴含B。\n",
    "\n",
    "token2token的注意力机制是先使用LSTM学习A的表征，然后和B的每一个token都做一个attention，并且每个词都需要加入前一个词的attention值\n",
    "\n",
    "双向的注意力机制则是从BiLSTM得到启发，不仅要计算从A到B的token2token注意力分数，还要计算B到A的注意力分数\n",
    "\n",
    "假设由LSTM产生的A句子的表征为$Y \\in R^{K \\times L} $，其中L为句子A的长度，K为特征向量的维度。$h_t$表示LSTM对B句子中的第t个token的输出，$h_n$表示在LSTM处理句子B后得到的最后的输出n为句子B的长度，$e_L$表示A句子最后输出的特征向量，$r_{t-1}$表示t-1时刻的attention值。  \n",
    "由此，我们可以看到token2token的注意力机制的公式为：\n",
    "\n",
    "$$\n",
    "M_t=\\tanh (W_{y}Y+(W_{h}h_t+W_{r}r_{t-1}) \\otimes e_L ) \\\\\n",
    "a_t=softmax(w^TM_t) \\\\\n",
    "r_t=Ya_{t}^{T}+\\tanh(W_tr_{t-1}) \\\\\n",
    "h^*=\\tanh(W_pr_N+W_xh_n)\n",
    "$$\n",
    "\n",
    "而双向的注意力机制，则是将这两个句子的位置调换。其实就是把两句话交换位置再计算一次（虽然效果并不好）。\n",
    "\n",
    "参考资料：\n",
    "[Enhanced LSTM for Natural Language Inference](https://arxiv.org/abs/1609.06038)\n",
    "[用注意力机制进行句子蕴含推理](https://zhuanlan.zhihu.com/p/40562196)\n"
   ]
  },
  {
   "cell_type": "code",
   "execution_count": null,
   "metadata": {},
   "outputs": [],
   "source": []
  },
  {
   "cell_type": "code",
   "execution_count": 43,
   "metadata": {},
   "outputs": [
    {
     "name": "stdout",
     "output_type": "stream",
     "text": [
      "torch.Size([10, 1, 100])\n",
      "torch.Size([10, 1, 100])\n"
     ]
    }
   ],
   "source": [
    "class ESIM(nn.Module):\n",
    "    def __init__(self,d_model=50,hidden_size=50):\n",
    "        super().__init__()\n",
    "\n",
    "        self.D=d_model\n",
    "        self.K=hidden_size\n",
    "        self.encoder1=LSTM(d_model=self.D,hidden_size=self.K,num_layer=1,bid=True)\n",
    "        self.tan=nn.Tanh()\n",
    "        self.softmax=nn.Softmax(dim=-1)\n",
    "        # self.encoder2=nn.Sequential(\n",
    "        #     LSTM(d_model=self.D,hidden_size=self.K,bid=True),\n",
    "        #     nn.AvgPool2d(),\n",
    "        #     nn.MaxPool2d()\n",
    "        # )\n",
    "        # self.cls=nn.Sequential(\n",
    "        #     nn.Linear(),\n",
    "        #     nn.ReLU(),\n",
    "        #     nn.Linear(),\n",
    "        #     nn.Softmax(3)\n",
    "        # )\n",
    "    \n",
    "        self.W1=nn.ModuleList([\n",
    "            # W_y\n",
    "            nn.Linear(in_features=2*self.K,out_features=2*self.K,bias=False),\n",
    "            # W_h\n",
    "            nn.Linear(in_features=2*self.K,out_features=2*self.K,bias=False),\n",
    "            # W_r\n",
    "            nn.Linear(in_features=2*self.K,out_features=2*self.K,bias=False),\n",
    "            # W_t\n",
    "            nn.Linear(in_features=2*self.K,out_features=2*self.K,bias=False),\n",
    "            # W_p\n",
    "            nn.Linear(in_features=2*self.K,out_features=2*self.K,bias=False),\n",
    "            # W_x\n",
    "            nn.Linear(in_features=2*self.K,out_features=2*self.K,bias=False),\n",
    "            # w^T\n",
    "            nn.Linear(in_features=2*self.K,out_features=1,bias=False)\n",
    "        ])\n",
    "        self.W2=nn.ModuleList([\n",
    "            # W_y\n",
    "            nn.Linear(in_features=2*self.K,out_features=2*self.K,bias=False),\n",
    "            # W_h\n",
    "            nn.Linear(in_features=2*self.K,out_features=2*self.K,bias=False),\n",
    "            # W_r\n",
    "            nn.Linear(in_features=2*self.K,out_features=2*self.K,bias=False),\n",
    "            # W_t\n",
    "            nn.Linear(in_features=2*self.K,out_features=2*self.K,bias=False),\n",
    "            # W_p\n",
    "            nn.Linear(in_features=2*self.K,out_features=2*self.K,bias=False),\n",
    "            # W_x\n",
    "            nn.Linear(in_features=2*self.K,out_features=2*self.K,bias=False),\n",
    "            # w^T\n",
    "            nn.Linear(in_features=2*self.K,out_features=1,bias=False)\n",
    "        ])\n",
    "\n",
    "    def T2TAtt(self,s1,s2,w=1):\n",
    "        a,b,c=s1.size()\n",
    "        if(w==1):\n",
    "            M1=self.tan(self.W1[0](s1)+torch.mul(self.W1[1](s2[:,0,:]),s1[:,-1,:]).view(a,1,c))\n",
    "            a1=self.softmax(self.W1[6](M1))\n",
    "            # print(s1.size())\n",
    "            _,p,q=a1.size()\n",
    "            # print(a1.size())\n",
    "            a1=a1.view(a,q,p)\n",
    "            # print(a1.size())            \n",
    "            rt=a1@s1\n",
    "            # print(rt.size())\n",
    "            for i in range(s2.size(1)): \n",
    "                M1=self.tan(self.W1[0](s1)+torch.mul(self.W1[1](s2[:,i,:]).view(a,1,c)+self.W1[2](rt),s1[:,-1,:].view(a,1,c)))\n",
    "                a1=self.softmax(self.W1[6](M1))\n",
    "                a1=a1.view(a,q,p)\n",
    "                # h.size()=10,1,100 \n",
    "                rt=a1@s1+self.softmax(self.W1[3](rt))\n",
    "            # h.size()=10,1,100\n",
    "            h=self.tan(self.W1[4](rt)+self.W1[5](s2[:,-1,:]).view(a,1,c))\n",
    "        else:\n",
    "            M1=self.tan(self.W2[0](s1)+torch.mul(self.W2[1](s2[:,0,:]),s1[:,-1,:]).view(a,1,c))\n",
    "            a1=self.softmax(self.W2[6](M1))\n",
    "            # print(s1.size())\n",
    "            _,p,q=a1.size()\n",
    "            # print(a1.size())\n",
    "            a1=a1.view(a,q,p)\n",
    "            # print(a1.size())            \n",
    "            rt=a1@s1\n",
    "            # print(rt.size())\n",
    "            for i in range(s2.size(1)): \n",
    "                M1=self.tan(self.W2[0](s1)+torch.mul(self.W2[1](s2[:,i,:]).view(a,1,c)+self.W2[2](rt),s1[:,-1,:].view(a,1,c)))\n",
    "                a1=self.softmax(self.W2[6](M1))\n",
    "                a1=a1.view(a,q,p)\n",
    "                # h.size()=10,1,100 \n",
    "                rt=a1@s1+self.softmax(self.W2[3](rt))\n",
    "            # h.size()=10,1,100\n",
    "            h=self.tan(self.W2[4](rt)+self.W2[5](s2[:,-1,:]).view(a,1,c))\n",
    "\n",
    "        return h\n",
    "\n",
    "    def forward(self,s1,s2):\n",
    "        # encoder\n",
    "        f1,_,_=self.encoder1(s1)\n",
    "        f2,_,_=self.encoder1(s2)\n",
    "        # 2 way t2t att\n",
    "        h1=self.T2TAtt(f1,f2,w=1)\n",
    "        h2=self.T2TAtt(f2,f1,w=2)\n",
    "        # cls\n",
    "        # v1=self.encoder2(h1)\n",
    "        # v2=self.encoder2(h2)\n",
    "        # V=torch.concat([v1,v2],dim=-1)\n",
    "        # output=self.cls(V)\n",
    "        return h1,h2\n",
    "\n",
    "A=torch.ones((10,5,50))\n",
    "B=torch.ones((10,3,50))\n",
    "es=ESIM()\n",
    "\n",
    "h1,h2=es(A,B)\n",
    "print(h1.size())\n",
    "print(h2.size())"
   ]
  },
  {
   "cell_type": "code",
   "execution_count": null,
   "metadata": {},
   "outputs": [],
   "source": [
    "\n"
   ]
  },
  {
   "cell_type": "code",
   "execution_count": null,
   "metadata": {},
   "outputs": [],
   "source": []
  },
  {
   "cell_type": "code",
   "execution_count": null,
   "metadata": {},
   "outputs": [],
   "source": []
  },
  {
   "cell_type": "code",
   "execution_count": null,
   "metadata": {},
   "outputs": [],
   "source": []
  },
  {
   "cell_type": "code",
   "execution_count": null,
   "metadata": {},
   "outputs": [],
   "source": []
  },
  {
   "cell_type": "code",
   "execution_count": null,
   "metadata": {},
   "outputs": [],
   "source": []
  },
  {
   "cell_type": "markdown",
   "metadata": {},
   "source": [
    "### 数据集"
   ]
  },
  {
   "cell_type": "code",
   "execution_count": null,
   "metadata": {},
   "outputs": [],
   "source": [
    "class MyDataset(Dataset):\n",
    "    def __init__(self,data,label):\n",
    "        self.data=data\n",
    "        self.label=label\n",
    "    \n",
    "    def __len__(self):\n",
    "        return len(self.data)\n",
    "    \n",
    "    def __getitem__(self,index):\n",
    "        return \n",
    "\n",
    "    "
   ]
  },
  {
   "cell_type": "code",
   "execution_count": null,
   "metadata": {},
   "outputs": [],
   "source": []
  },
  {
   "cell_type": "code",
   "execution_count": null,
   "metadata": {},
   "outputs": [],
   "source": []
  },
  {
   "cell_type": "code",
   "execution_count": null,
   "metadata": {},
   "outputs": [],
   "source": []
  }
 ],
 "metadata": {
  "kernelspec": {
   "display_name": "DL2024",
   "language": "python",
   "name": "python3"
  },
  "language_info": {
   "codemirror_mode": {
    "name": "ipython",
    "version": 3
   },
   "file_extension": ".py",
   "mimetype": "text/x-python",
   "name": "python",
   "nbconvert_exporter": "python",
   "pygments_lexer": "ipython3",
   "version": "3.9.18"
  }
 },
 "nbformat": 4,
 "nbformat_minor": 2
}
