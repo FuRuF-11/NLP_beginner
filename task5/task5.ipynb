{
 "cells": [
  {
   "cell_type": "code",
   "execution_count": 1,
   "metadata": {},
   "outputs": [],
   "source": [
    "# 数据分析/处理\n",
    "import numpy as np\n",
    "import pandas as pd\n",
    "import re\n",
    "\n",
    "# 搭建神经网络\n",
    "import torch\n",
    "import torch.nn as nn\n",
    "import torch.nn.functional as F\n",
    "import torch.nn.init as init\n",
    "from torch import optim\n",
    "from torch.utils.data import Dataset,DataLoader\n",
    "\n",
    "# 数据可视化\n",
    "import matplotlib.pyplot as plt\n",
    "import warnings\n",
    "\n",
    "# word2vec\n",
    "from gensim.models import Word2Vec\n",
    "\n",
    "\n",
    "warnings.filterwarnings('ignore')\n",
    "%matplotlib inline"
   ]
  },
  {
   "cell_type": "code",
   "execution_count": 2,
   "metadata": {},
   "outputs": [
    {
     "data": {
      "text/plain": [
       "<torch._C.Generator at 0x228988f0410>"
      ]
     },
     "execution_count": 2,
     "metadata": {},
     "output_type": "execute_result"
    }
   ],
   "source": [
    "# 验证cuda是否可用\n",
    "cuda_available=torch.cuda.is_available()\n",
    "device = torch.device(\"cuda\" if cuda_available else \"cpu\")\n",
    "if cuda_available:\n",
    "    print(\"CUDA Device Name:\", torch.cuda.get_device_name(0))\n",
    "    print(\"CUDA Compute Capability:\", torch.cuda.get_device_capability(0))\n",
    "# 宇宙的答案\n",
    "np.random.seed(42)\n",
    "torch.manual_seed(42)"
   ]
  },
  {
   "cell_type": "markdown",
   "metadata": {},
   "source": [
    "### 读入数据\n",
    "\n",
    "由于是中文诗词，所以需要进行分词。还要进行数据清洗。"
   ]
  },
  {
   "cell_type": "code",
   "execution_count": null,
   "metadata": {},
   "outputs": [],
   "source": []
  },
  {
   "cell_type": "code",
   "execution_count": null,
   "metadata": {},
   "outputs": [],
   "source": []
  },
  {
   "cell_type": "code",
   "execution_count": null,
   "metadata": {},
   "outputs": [],
   "source": []
  },
  {
   "cell_type": "code",
   "execution_count": null,
   "metadata": {},
   "outputs": [],
   "source": []
  },
  {
   "cell_type": "code",
   "execution_count": null,
   "metadata": {},
   "outputs": [],
   "source": []
  },
  {
   "cell_type": "markdown",
   "metadata": {},
   "source": [
    "### 生成式语言模型建模建模\n",
    "\n",
    "使用LSTM和GRU搭建语言模型。使用预测下一个token的方式生成，这种自回归生成方法是目前最主流的生成方法。"
   ]
  },
  {
   "cell_type": "code",
   "execution_count": null,
   "metadata": {},
   "outputs": [],
   "source": [
    "# 定义模型\n",
    "class GRU(nn.Module):\n",
    "    def __init__(self,d_model,hidden_size,num_layer,output_size,dropout=0.1,bid=False) -> None:\n",
    "        super().__init__()\n",
    "        self.d_model=d_model\n",
    "        self.hidden_size=hidden_size\n",
    "        self.layers=num_layer\n",
    "        self.bid=bid\n",
    "        \n",
    "        self.rnn=nn.GRU(d_model,hidden_size,num_layer,\\\n",
    "                        batch_first=True,dropout=dropout,bidirectional=bid)\n",
    "        self.classfier=nn.Sequential(\n",
    "            nn.Linear(hidden_size,output_size),\n",
    "            nn.ReLU(),\n",
    "            nn.Softmax(output_size)\n",
    "        )\n",
    "\n",
    "    def forward(self,X):\n",
    "        if(self.bid==True):\n",
    "            h0=torch.zeros(X.size(0),2*self.num_layer,self.hidden_size)\n",
    "        else:\n",
    "            h0=torch.zeros(X.size(0),self.num_layer,self.hidden_size)\n",
    "        X,h_n=self.rnn(X,h0)\n",
    "        out=self.classfier(X[:,-1,:])\n",
    "        return out\n",
    "\n",
    "\n",
    "class LSTM(nn.Module):\n",
    "    def __init__(self,d_model,hidden_size,num_layer,output_size,dropout=0.1,bid=False) -> None:\n",
    "        super().__init__()\n",
    "        self.d_model=d_model\n",
    "        self.hidden_size=hidden_size\n",
    "        self.layer=num_layer\n",
    "        self.bid=bid\n",
    "        \n",
    "        self.rnn=nn.LSTM(d_model,hidden_size,num_layer,\\\n",
    "                        batch_first=True,dropout=dropout,bidirectional=bid)\n",
    "        # self.classfier=nn.Sequential(\n",
    "        #     nn.Linear(hidden_size,output_size),\n",
    "        #     nn.ReLU(),\n",
    "        #     nn.Softmax(output_size)\n",
    "        # )\n",
    "\n",
    "    def forward(self,X):\n",
    "        if(self.bid==True):\n",
    "            h0=torch.zeros(2*self.layer,X.size(0),self.hidden_size)\n",
    "            c0=torch.zeros(2*self.layer,X.size(0),self.hidden_size)\n",
    "        else:\n",
    "            h0=torch.zeros(self.layer,X.size(0),self.hidden_size)\n",
    "            c0=torch.zeros(self.layer,X.size(0),self.hidden_size)\n",
    "        X,(hn,cn)=self.rnn(X,(h0,c0))\n",
    "        # out=self.classfier(X[:,-1,:])\n",
    "        return X,hn,cn"
   ]
  },
  {
   "cell_type": "code",
   "execution_count": null,
   "metadata": {},
   "outputs": [],
   "source": []
  },
  {
   "cell_type": "code",
   "execution_count": null,
   "metadata": {},
   "outputs": [],
   "source": []
  },
  {
   "cell_type": "code",
   "execution_count": null,
   "metadata": {},
   "outputs": [],
   "source": []
  }
 ],
 "metadata": {
  "kernelspec": {
   "display_name": "DL2024",
   "language": "python",
   "name": "python3"
  },
  "language_info": {
   "codemirror_mode": {
    "name": "ipython",
    "version": 3
   },
   "file_extension": ".py",
   "mimetype": "text/x-python",
   "name": "python",
   "nbconvert_exporter": "python",
   "pygments_lexer": "ipython3",
   "version": "3.9.18"
  }
 },
 "nbformat": 4,
 "nbformat_minor": 2
}
