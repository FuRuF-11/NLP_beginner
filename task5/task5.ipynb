{
 "cells": [
  {
   "cell_type": "code",
   "execution_count": 3,
   "metadata": {},
   "outputs": [],
   "source": [
    "# 数据分析/处理\n",
    "import numpy as np\n",
    "import pandas as pd\n",
    "import re\n",
    "\n",
    "# 搭建神经网络\n",
    "import torch\n",
    "import torch.nn as nn\n",
    "import torch.nn.functional as F\n",
    "import torch.nn.init as init\n",
    "from torch import optim\n",
    "from torch.utils.data import Dataset,DataLoader\n",
    "\n",
    "# 数据可视化\n",
    "import matplotlib.pyplot as plt\n",
    "import warnings\n",
    "\n",
    "# word2vec\n",
    "from gensim.models import Word2Vec\n",
    "\n",
    "\n",
    "warnings.filterwarnings('ignore')\n",
    "%matplotlib inline"
   ]
  },
  {
   "cell_type": "code",
   "execution_count": 4,
   "metadata": {},
   "outputs": [
    {
     "data": {
      "text/plain": [
       "<torch._C.Generator at 0x22e439f5090>"
      ]
     },
     "execution_count": 4,
     "metadata": {},
     "output_type": "execute_result"
    }
   ],
   "source": [
    "# 验证cuda是否可用\n",
    "cuda_available=torch.cuda.is_available()\n",
    "device = torch.device(\"cuda\" if cuda_available else \"cpu\")\n",
    "if cuda_available:\n",
    "    print(\"CUDA Device Name:\", torch.cuda.get_device_name(0))\n",
    "    print(\"CUDA Compute Capability:\", torch.cuda.get_device_capability(0))\n",
    "# 宇宙的答案\n",
    "np.random.seed(42)\n",
    "torch.manual_seed(42)"
   ]
  },
  {
   "cell_type": "markdown",
   "metadata": {},
   "source": [
    "### 读入数据\n",
    "\n",
    "由于是中文诗词，且需要进行字符级建模，所以需要搭建字典并切分句子。\n"
   ]
  },
  {
   "cell_type": "code",
   "execution_count": 45,
   "metadata": {},
   "outputs": [],
   "source": [
    "# 首先将整个语料库读入，并对其进行清洗和重新划分。\n",
    "poe=open(\"poetryFromTang.txt\",'r')\n",
    "poem=poe.read()\n",
    "poe.close()\n",
    "# 将诗词按句号划分\n",
    "tmp=poem.replace(poem[0],\"\")\n",
    "tmp=tmp.replace(\"。\",\"。\\n\")\n",
    "# 检查有无乱码\n",
    "newFile=open(\"NewPoetryFromTang.txt\",'w')\n",
    "newFile.write(tmp)\n",
    "newFile.close()"
   ]
  },
  {
   "cell_type": "code",
   "execution_count": null,
   "metadata": {},
   "outputs": [],
   "source": []
  },
  {
   "cell_type": "code",
   "execution_count": 5,
   "metadata": {},
   "outputs": [
    {
     "data": {
      "text/html": [
       "<div>\n",
       "<style scoped>\n",
       "    .dataframe tbody tr th:only-of-type {\n",
       "        vertical-align: middle;\n",
       "    }\n",
       "\n",
       "    .dataframe tbody tr th {\n",
       "        vertical-align: top;\n",
       "    }\n",
       "\n",
       "    .dataframe thead th {\n",
       "        text-align: right;\n",
       "    }\n",
       "</style>\n",
       "<table border=\"1\" class=\"dataframe\">\n",
       "  <thead>\n",
       "    <tr style=\"text-align: right;\">\n",
       "      <th></th>\n",
       "      <th>0</th>\n",
       "    </tr>\n",
       "  </thead>\n",
       "  <tbody>\n",
       "    <tr>\n",
       "      <th>0</th>\n",
       "      <td>巴山上峡重复重，阳台碧峭十二峰。荆王猎时逢暮雨，</td>\n",
       "    </tr>\n",
       "    <tr>\n",
       "      <th>1</th>\n",
       "      <td>夜卧高丘梦神女。轻红流烟湿艳姿，行云飞去明星稀。</td>\n",
       "    </tr>\n",
       "    <tr>\n",
       "      <th>2</th>\n",
       "      <td>目极魂断望不见，猿啼三声泪沾衣。</td>\n",
       "    </tr>\n",
       "    <tr>\n",
       "      <th>3</th>\n",
       "      <td>见尽数万里，不闻三声猿。但飞萧萧雨，中有亭亭魂。</td>\n",
       "    </tr>\n",
       "    <tr>\n",
       "      <th>4</th>\n",
       "      <td>千载楚襄恨，遗文宋玉言。至今青冥里，云结深闺门。</td>\n",
       "    </tr>\n",
       "  </tbody>\n",
       "</table>\n",
       "</div>"
      ],
      "text/plain": [
       "                          0\n",
       "0  巴山上峡重复重，阳台碧峭十二峰。荆王猎时逢暮雨，\n",
       "1  夜卧高丘梦神女。轻红流烟湿艳姿，行云飞去明星稀。\n",
       "2          目极魂断望不见，猿啼三声泪沾衣。\n",
       "3  见尽数万里，不闻三声猿。但飞萧萧雨，中有亭亭魂。\n",
       "4  千载楚襄恨，遗文宋玉言。至今青冥里，云结深闺门。"
      ]
     },
     "execution_count": 5,
     "metadata": {},
     "output_type": "execute_result"
    }
   ],
   "source": [
    "corprus=pd.read_csv(\"poetryFromTang.txt\",header=None,delimiter='\\t')\n",
    "corprus.head()"
   ]
  },
  {
   "cell_type": "code",
   "execution_count": 16,
   "metadata": {},
   "outputs": [
    {
     "data": {
      "text/plain": [
       "['君',\n",
       " '问',\n",
       " '归',\n",
       " '期',\n",
       " '未',\n",
       " '有',\n",
       " '期',\n",
       " '，',\n",
       " '巴',\n",
       " '山',\n",
       " '夜',\n",
       " '雨',\n",
       " '涨',\n",
       " '秋',\n",
       " '池',\n",
       " '。']"
      ]
     },
     "execution_count": 16,
     "metadata": {},
     "output_type": "execute_result"
    }
   ],
   "source": [
    "max_len=len(corprus[0].max())\n",
    "\n",
    "def sen2list(sentence,max_len=max_len):\n",
    "    l=[w for w in sentence]\n",
    "    return l\n",
    "s=sen2list(\"君问归期未有期，巴山夜雨涨秋池。\")\n",
    "\n"
   ]
  },
  {
   "cell_type": "code",
   "execution_count": null,
   "metadata": {},
   "outputs": [],
   "source": []
  },
  {
   "cell_type": "code",
   "execution_count": null,
   "metadata": {},
   "outputs": [],
   "source": []
  },
  {
   "cell_type": "code",
   "execution_count": null,
   "metadata": {},
   "outputs": [],
   "source": []
  },
  {
   "cell_type": "markdown",
   "metadata": {},
   "source": [
    "### 生成式语言模型建模建模\n",
    "\n",
    "使用LSTM和GRU搭建语言模型。使用预测下一个token的方式生成，这种自回归生成方法是目前最主流的生成方法。\n",
    "\n",
    "具体可以参考AK的[字符级语言模型教程](https://www.youtube.com/watch?v=PaCmpygFfXo&list=PLAqhIrjkxbuWI23v9cThsA9GvCAUhRvKZ&index=2&ab_channel=AndrejKarpathy)。"
   ]
  },
  {
   "cell_type": "code",
   "execution_count": 3,
   "metadata": {},
   "outputs": [],
   "source": [
    "# 定义模型\n",
    "class GRU(nn.Module):\n",
    "    def __init__(self,d_model,hidden_size,num_layer,output_size,dropout=0.1,bid=False) -> None:\n",
    "        super().__init__()\n",
    "        self.d_model=d_model\n",
    "        self.hidden_size=hidden_size\n",
    "        self.layers=num_layer\n",
    "        self.bid=bid\n",
    "        \n",
    "        self.rnn=nn.GRU(d_model,hidden_size,num_layer,\\\n",
    "                        batch_first=True,dropout=dropout,bidirectional=bid)\n",
    "        self.classfier=nn.Sequential(\n",
    "            nn.Linear(hidden_size,output_size),\n",
    "            nn.ReLU(),\n",
    "            nn.Softmax(output_size)\n",
    "        )\n",
    "\n",
    "    def forward(self,X):\n",
    "        if(self.bid==True):\n",
    "            h0=torch.zeros(X.size(0),2*self.num_layer,self.hidden_size)\n",
    "        else:\n",
    "            h0=torch.zeros(X.size(0),self.num_layer,self.hidden_size)\n",
    "        X,h_n=self.rnn(X,h0)\n",
    "        out=self.classfier(X[:,-1,:])\n",
    "        return out\n",
    "\n",
    "\n",
    "class LSTM(nn.Module):\n",
    "    def __init__(self,d_model,hidden_size,num_layer,output_size,dropout=0.1,bid=False) -> None:\n",
    "        super().__init__()\n",
    "        self.d_model=d_model\n",
    "        self.hidden_size=hidden_size\n",
    "        self.layer=num_layer\n",
    "        self.bid=bid\n",
    "        \n",
    "        self.rnn=nn.LSTM(d_model,hidden_size,num_layer,\\\n",
    "                        batch_first=True,dropout=dropout,bidirectional=bid)\n",
    "        # self.classfier=nn.Sequential(\n",
    "        #     nn.Linear(hidden_size,output_size),\n",
    "        #     nn.ReLU(),\n",
    "        #     nn.Softmax(output_size)\n",
    "        # )\n",
    "\n",
    "    def forward(self,X):\n",
    "        if(self.bid==True):\n",
    "            h0=torch.zeros(2*self.layer,X.size(0),self.hidden_size)\n",
    "            c0=torch.zeros(2*self.layer,X.size(0),self.hidden_size)\n",
    "        else:\n",
    "            h0=torch.zeros(self.layer,X.size(0),self.hidden_size)\n",
    "            c0=torch.zeros(self.layer,X.size(0),self.hidden_size)\n",
    "        X,(hn,cn)=self.rnn(X,(h0,c0))\n",
    "        # out=self.classfier(X[:,-1,:])\n",
    "        return X,hn,cn"
   ]
  },
  {
   "cell_type": "code",
   "execution_count": null,
   "metadata": {},
   "outputs": [],
   "source": []
  },
  {
   "cell_type": "code",
   "execution_count": null,
   "metadata": {},
   "outputs": [],
   "source": []
  },
  {
   "cell_type": "code",
   "execution_count": null,
   "metadata": {},
   "outputs": [],
   "source": []
  }
 ],
 "metadata": {
  "kernelspec": {
   "display_name": "DL2024",
   "language": "python",
   "name": "python3"
  },
  "language_info": {
   "codemirror_mode": {
    "name": "ipython",
    "version": 3
   },
   "file_extension": ".py",
   "mimetype": "text/x-python",
   "name": "python",
   "nbconvert_exporter": "python",
   "pygments_lexer": "ipython3",
   "version": "3.9.18"
  }
 },
 "nbformat": 4,
 "nbformat_minor": 2
}
